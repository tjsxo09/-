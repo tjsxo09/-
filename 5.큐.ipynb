{
 "cells": [
  {
   "cell_type": "markdown",
   "metadata": {},
   "source": [
    "# 5. 큐"
   ]
  },
  {
   "cell_type": "markdown",
   "metadata": {},
   "source": [
    "## 1. 큐의 개념\n",
    "- 선형 자료구조\n",
    "- FIFO\n",
    "\n",
    "\n",
    "- 제약사항\n",
    "    - 자료 추가 : 제일 끝(rear)에서만 가능\n",
    "    - 자료 반환 : 큐의 제일 앞(front)에서만 가능\n",
    "    \n",
    "\n",
    "- 용어\n",
    "    - 인큐 : 새로운 자료를 쿠에 추가\n",
    "    - 디큐 : 큐에서 자료를 꺼내는 것\n",
    "    \n",
    "    \n",
    "### 1.1 큐의 인큐\n",
    "\n",
    "- 큐의 크기 : 큐가 저장할 수 있는 최대 자료의 개수\n",
    "- 인큐는 rear보다 한칸 뒤에 일어나며, 인큐시 rear = rear+1이 된다.\n",
    "\n",
    "\n",
    "### 1.2 큐의 디큐\n",
    "\n",
    "- front에서 데이터를 1개 반환\n",
    "- front = front + 1이 된다.\n",
    "\n",
    "\n",
    "### 1.3 큐의 피크\n",
    "\n",
    "- front에서 데이터를 1개 반환\n",
    "- front와 rear 위치는 변하지 않는다."
   ]
  },
  {
   "cell_type": "markdown",
   "metadata": {},
   "source": [
    "## 2. 큐 추상 자료형\n",
    "\n",
    "- 기본적으로 필요한 기능\n",
    "\n",
    "|이름||입력(input)|출력(output)|설명|\n",
    "|:---:|:---|:---:|:---:|:---:|\n",
    "|큐 생성|createQueue()|큐 크기 n|큐 s | 최대 n 개의 원소를 가지는 공백 큐 s를 생성|\n",
    "|큐 삭제|deleteQueue()|큐 s| N/A | 큐를 제거(메모리 해제) |\n",
    "|원소 추가 가능 여부 판단|isFull()|큐 s| True/False | 큐의 원소 개수가 최대 원소 개수와 같은지를 반환, 배열 큐인 경우에만 의미 있음 |\n",
    "|공백 큐인지 여부 판단|isEmpty()|큐 s| True/False | 공백 큐인지를 전달 |\n",
    "|인큐|inqueue()|큐 s, 원소 e | 성공/실패 여부 |큐의 제일 뒤에 새로운 원소를 추가 |\n",
    "|디큐|dequeue()|큐 s| 원소 e | 큐의 맨 앞에 있는 원소를 제거한 뒤 이를 반환 |\n",
    "|피크|peek()|큐 s| 원소 e | 큐의 맨 위에 있는 원소를 반환 |"
   ]
  },
  {
   "cell_type": "markdown",
   "metadata": {},
   "source": [
    "## 3. 배열로 구현한 선형 큐"
   ]
  },
  {
   "cell_type": "markdown",
   "metadata": {},
   "source": [
    "- 배열을 이용하여 큐를 구현한 것\n",
    "- 인큐/디큐를 반복함에 따라 배열에 비어 있는 곳이 있음에도 인식하지 못하는 경우가 발생\n",
    "- 비효율적인 메모리 사용 문제가 있다.\n",
    "\n",
    "\n",
    "### 3.1 인큐 연산\n",
    "\n",
    "- 맨 뒤 리어(Rear)에 새로운 노드를 추가하는 함수\n",
    "\n",
    "\n",
    "- 순서\n",
    "    1. 배열에 새로운 원소 추가 가능 여부 판단(배열이 가득 찼는가?)\n",
    "    2. 리어 위치 변경\n",
    "    3. 새로운 자료 추가\n",
    "    4. 현재 자료 개수 증가\n",
    "\n",
    "\n",
    "### 3.2 디큐, 피크 연산\n",
    "\n",
    "- 디큐 순서\n",
    "    1. 공백 큐인지 여부 점검\n",
    "    2. 반환 노드 메모리 할당 및 점검\n",
    "    3. 프런트 위치 변경(프런트++)\n",
    "    4. 반환 노드 내용 복사\n",
    "    5. 큐의 원소개수 감소\n",
    "\n",
    "\n",
    "- 피크 순서\n",
    "    1. 프런트 노드를 반환\n",
    "    \n",
    "\n",
    "- 특징\n",
    "    - front 변수는 front 노드의 이전 위치를 가리킨다.(따라서 front + 1 위치의 노드를 저장,반환해야한다.)"
   ]
  },
  {
   "cell_type": "markdown",
   "metadata": {},
   "source": [
    "## 4. 배열로 구현한 원형 큐"
   ]
  },
  {
   "cell_type": "markdown",
   "metadata": {},
   "source": [
    "- 배열의 오른쪽을 왼쪽 배열과 연결시킴\n",
    "- 노드가 낭비되는 문제가 해결되었다.\n",
    "- rear 변수가 rear = (rear + 1) % maxElementCount로 구해진다.\n",
    "\n",
    "\n",
    "### 4.1 인큐 연산\n",
    "\n",
    "- 선형 큐의 순서와 완전히 같음\n",
    "- rear 변수 변경 식만 바뀜 (rear + 1) -> (rear + 1) % maxElementCount\n",
    "\n",
    "\n",
    "### 4.2 디큐 연산\n",
    "\n",
    "- 순서는 앞의 선형 큐의 디큐 연산과 같다.\n",
    "- rear 변수 변경 식만 바뀜 (rear + 1) -> (rear + 1) % maxElementCount"
   ]
  },
  {
   "cell_type": "markdown",
   "metadata": {},
   "source": [
    "## 5. 연결 리스트로 구현한 큐"
   ]
  },
  {
   "cell_type": "markdown",
   "metadata": {},
   "source": [
    "- 연결 리스트로 큐의 추상 자료형을 구현한 것\n",
    "- 오버플로우 현상이 발생하지 않는다.\n",
    "- 노드의 링크 방향은 front에서 rear 노드 방향이다.\n",
    "- 헤더 노드에는 rear 노드 포인터, front 노드 포인터가 존재한다.\n",
    "\n",
    "\n",
    "### 5.1 인큐 연산\n",
    "\n",
    "- 공백 큐 상태일 때 인큐 연산\n",
    "    1. 저장된 노드가 없다.\n",
    "    2. front 노드, rear 노드가 모두 NULL\n",
    "    3. 첫 번째 노드는 front이며 rear이므로, 두 노드를 가리키는 링크는 첫번 째 노드를 가리킨다.\n",
    "\n",
    "- 공백이 아닐 때의 인큐 연산\n",
    "    1. 새로 추가된 노드를 현재 rear 노드의 다음 노드로 설정\n",
    "    2. 새로 추가된 노드를 rear 헤드 포인터가 가리키게 한다.\n",
    "\n",
    "\n",
    "### 5.2 디큐, 피크 연산\n",
    "\n",
    "- 큐의 맨 앞 front 노드를 반환한다.\n",
    "- 디큐는 rear 노드를 제거, 피크는 rear 노드를 제거하지 않는다.\n",
    "\n",
    "\n",
    "- 일반적인 경우(현재 큐에 적어도 2개 이상의 노드가 있는 경우)\n",
    "    1. 반환 노드를 기존 front 노드로 설정\n",
    "    2. 헤더 노드가 가리키는 front 노드를 기존 front 노드의 링크로 변경\n",
    "    3. 반환 노드의 링크를 NULL로 변경\n",
    "    \n",
    "\n",
    "- 노드가 1개인 큐에서의 디큐 연산\n",
    "    - 특징\n",
    "        - 디큐 연산을 행할 경우 rear 노드를 가리키는 포인터 변수에서 오류가 발생\n",
    "        - 큐에서 유일한 노드이기 때문에 rear, front를 가리키는 노드는 모두 한 노드를 가리키고 있다.\n",
    "        - front 노드가 사라졌음에도, rear 노드는 front를 가리키고 있으므로 rear 노드의 링크를 NULL로 수정해주어야한다."
   ]
  },
  {
   "cell_type": "markdown",
   "metadata": {},
   "source": [
    "## 6. 연결 리스트로 구현한 덱\n",
    "\n",
    "- 두 개의 끝을 가지는 큐라는 뜻\n",
    "- 양쪽 끝에서 자료의 삽입, 반환이 가능하다.ㅁㅁ\n",
    "\n",
    "- 큐와 스택의 기능을 합친 자료구조로도 설명된다."
   ]
  },
  {
   "cell_type": "markdown",
   "metadata": {},
   "source": [
    "- 덱, 스택, 큐의 추상 자료형 비교\n",
    "\n",
    "\n",
    "|연산||덱|스택|큐|\n",
    "|:---:|:---|:---:|:---:|:---:|\n",
    "|앞, 프런트|추가|insertFront|없음|없음|\n",
    "||반환|deleteFront|없음| DeQueue |\n",
    "|뒤, 리어|추가|insertRear| Push | EnQueue |\n",
    "||반환|deleteRear| Pop | 없음 |"
   ]
  },
  {
   "cell_type": "markdown",
   "metadata": {},
   "source": [
    "### 6.1 덱 추상 자료형\n",
    "\n",
    "|이름||입력(input)|출력(output)|설명|\n",
    "|:---:|:---|:---:|:---:|:---:|\n",
    "|덱 생성|createDeque()|덱 크기 n|덱 d| 최대 n 개의 원소를 가지는 공백 덱 d를 생성|\n",
    "|덱 삭제|deleteDeque()|덱 d| N/A | 덱을 제거(메모리 해제) |\n",
    "|원소 추가 가능 여부 판단|isFull()|덱 d| True/False | 덱의 원소 개수가 최대 원소 개수와 같은지를 반환, 배열 덱인 경우에만 의미 있음 |\n",
    "|공백 덱인지 여부 판단|isEmpty()|덱 d| True/False | 공백 덱인지를 전달 |\n",
    "|앞 추가|insertFront()|덱 d, 원소 e | 성공/실패 여부 |덱의 앞에 새로운 원소를 추가 |\n",
    "|뒤 추가|insertRear()|덱 d, 원소 e | 성공/실패 여부 |덱의 뒤에 새로운 원소를 추가 |\n",
    "|앞 제거|deleteFront()|덱 d | 원소 e |덱의 앞 원소를 제거한 뒤 반환 |\n",
    "|뒤 제거|deleteRear()|덱 d | 원소 e |덱의 뒤 원소를 제거한 뒤 반환 |\n",
    "|앞 반환|peekFront()|덱 d | 원소 e |덱의 앞 원소를 반환 |\n",
    "|뒤 반환|peekRear()|덱 d | 원소 e |덱의 뒤 원소를 반환 |\n",
    "|덱 표시|displayDeque()|덱 d | N/A |덱에 저장된 원소를 화면에 표시|"
   ]
  },
  {
   "cell_type": "markdown",
   "metadata": {},
   "source": [
    "- 구현 방법\n",
    "    1. 배열을 이용\n",
    "    2. 이중 연결 리스트를 이용"
   ]
  }
 ],
 "metadata": {
  "kernelspec": {
   "display_name": "python3.6",
   "language": "python",
   "name": "python3.6"
  },
  "language_info": {
   "codemirror_mode": {
    "name": "ipython",
    "version": 3
   },
   "file_extension": ".py",
   "mimetype": "text/x-python",
   "name": "python",
   "nbconvert_exporter": "python",
   "pygments_lexer": "ipython3",
   "version": "3.6.10"
  }
 },
 "nbformat": 4,
 "nbformat_minor": 4
}
