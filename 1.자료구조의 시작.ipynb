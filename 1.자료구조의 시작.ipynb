{
 "cells": [
  {
   "cell_type": "markdown",
   "metadata": {},
   "source": [
    "# 1.자료구조의 분류"
   ]
  },
  {
   "cell_type": "markdown",
   "metadata": {},
   "source": [
    "- 자료의 형태에 따른 분류\n",
    "\n",
    "\n",
    "1. 단순 구조\n",
    "    - 정수\n",
    "    - 실수\n",
    "    - 문자 ,문자열\n",
    "    \n",
    "    \n",
    "2. 선형 구조\n",
    "    - 리스트\n",
    "    - 스택\n",
    "    - 큐\n",
    "    - 덱\n",
    "    \n",
    "    \n",
    "3. 비선형 구조\n",
    "    - 트리\n",
    "    - 그래프\n",
    "   \n",
    "   \n",
    "4. 파일 구조"
   ]
  },
  {
   "cell_type": "markdown",
   "metadata": {},
   "source": [
    "## 1. 단순 구조\n",
    "\n",
    "- 정수(int), 실수(float, double), 문자, 문자열(char, string)\n",
    "- 프로그래밍 언어에서 제공하는 기본적인 데이터 타입"
   ]
  },
  {
   "cell_type": "markdown",
   "metadata": {},
   "source": [
    "## 2. 선형 구조\n",
    "\n",
    "- 리스트(List), 스택(Stack), 큐(Queue), 덱(Deque) 등이 대표적 선형 구조\n",
    "- 각각의 자료들 사이의 앞뒤 관계가 일대일(1:1)인 경우\n",
    "\n"
   ]
  },
  {
   "cell_type": "markdown",
   "metadata": {},
   "source": [
    "## 3. 비선형 구조\n",
    "\n",
    "- 트리(Tree), 그래프(Graph) 등이 대표적 비선형 구조\n",
    "- 각각의 자료들 사이의 앞뒤 관계가 1:1이 아닌 계층 구조"
   ]
  },
  {
   "cell_type": "markdown",
   "metadata": {},
   "source": [
    "## 4. 파일 구조\n",
    "\n",
    "- 보조기억장치에 저장되는 파일에 대한 자료구조\n",
    "- 디스크에 저장된다는 가정에 기반을 둠\n",
    "- 파일 구성 방식\n",
    "    - 순차적 파일 구조\n",
    "    - 상대적 파일 구조\n",
    "    - 색인 파일 구조\n",
    "    - 다중 키 파일 구조"
   ]
  },
  {
   "cell_type": "markdown",
   "metadata": {},
   "source": [
    "# 2. 추상 자료형"
   ]
  },
  {
   "cell_type": "markdown",
   "metadata": {},
   "source": [
    "- 추상 자료형이 필요한 이유 -> 정보 은닉\n",
    "- 정보 은닉\n",
    "    - 중요한 정보만을 나타냄\n",
    "    - 중요하지 않은 정보는 숨김\n",
    "    - 궁극적으로는 개발 효율성을 증가시킴\n",
    "- 정보 은닉의 개념을 이용하여 자료구조를 간략히 표현하는 것"
   ]
  },
  {
   "cell_type": "markdown",
   "metadata": {},
   "source": [
    "### 1. 자료, 자료형\n",
    "\n",
    "- 자료형(data type)\n",
    "    1. 자료(data)\n",
    "    2. 연산(operation)\n",
    "    \n",
    "- 자료형은 자료와 자료를 처리하기 위한 명령 혹은 연산을 합친것을 말함\n",
    "- 자료\n",
    "    - 프로그램에서 처리되는 대상 -> 특정 값(value)"
   ]
  },
  {
   "cell_type": "markdown",
   "metadata": {},
   "source": [
    "### 2. 추사화와 추상 자료형\n",
    "\n",
    "- 추상적으로 정의된 자료형\n",
    "\n",
    "- 추상 자료형의 추상\n",
    "    1. 세부적이고 복잡한 것을 생략\n",
    "    2. 대표적인 것, 중요한 것만을 나타냄"
   ]
  },
  {
   "cell_type": "markdown",
   "metadata": {},
   "source": [
    "## 3. 알고리즘의 성능 분석"
   ]
  },
  {
   "cell_type": "markdown",
   "metadata": {},
   "source": [
    "### 3.1. 알고리즘 분석 기준: 공간 복잡도와 시간 복잡도\n",
    "\n",
    "1. 공간 복잡도\n",
    "    - 알고리즘 실행에 필요한 저장 곤간이 얼만큼 필요한지 나타낸 것\n",
    "   \n",
    "2. 시간 복잡도\n",
    "    - 알고리즘 실행에 시간이 얼만큼 걸리는지를 나타냄\n",
    "\n",
    "- 보통 성능 분석에서 시간 복잡도가 공간 복잡도보다 더 중요한 평가 기준이다."
   ]
  },
  {
   "cell_type": "markdown",
   "metadata": {},
   "source": [
    "### 3.2. 시간 복잡도: 입력 값에 따른 실행 연산의 빈도수\n",
    "\n",
    "- 알고리즘 실행에 걸리는 시간을 말함\n",
    "- 측정 방법\n",
    "    1. 실제 걸리는 시간 측정\n",
    "    2. 실행되는 명령문의 개수를 계산\n",
    "    \n",
    "- 일반적으로 실행되는 연산의 빈도수를 계산하여 구함"
   ]
  },
  {
   "cell_type": "markdown",
   "metadata": {},
   "source": [
    "### 3.3. 시간 복잡도 -> 빅-오(O) 표기법\n",
    "\n",
    "- 일반적으로 계수는 생략하여 표시\n",
    "- 예시) 3n + 2 -> n으로 표시"
   ]
  },
  {
   "cell_type": "code",
   "execution_count": null,
   "metadata": {},
   "outputs": [],
   "source": []
  }
 ],
 "metadata": {
  "kernelspec": {
   "display_name": "python3.6",
   "language": "python",
   "name": "python3.6"
  },
  "language_info": {
   "codemirror_mode": {
    "name": "ipython",
    "version": 3
   },
   "file_extension": ".py",
   "mimetype": "text/x-python",
   "name": "python",
   "nbconvert_exporter": "python",
   "pygments_lexer": "ipython3",
   "version": "3.6.10"
  }
 },
 "nbformat": 4,
 "nbformat_minor": 4
}
