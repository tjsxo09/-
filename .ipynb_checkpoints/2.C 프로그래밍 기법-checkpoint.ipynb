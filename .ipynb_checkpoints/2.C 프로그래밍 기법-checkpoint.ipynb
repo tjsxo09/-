{
 "cells": [
  {
   "cell_type": "markdown",
   "metadata": {},
   "source": [
    "# 1. C의 단순 자료형"
   ]
  },
  {
   "cell_type": "markdown",
   "metadata": {},
   "source": [
    "## 1.1 C의 단순 자료형\n",
    "\n",
    "|C에서 제공하는 자료형||크기|수의 범위|\n",
    "|:---:|:---|:---:|:---:|\n",
    "|정수|short|2바이트|-32,768 ~ +32,768|\n",
    "|    |int|4바이트|-2,147,483,648 ~ + 2,147,483,647|\n",
    "|    |long|4바이트|-2,147,483,648 ~ + 2,147,483,647|\n",
    "|    |**unsigned** short|2바이트|0 ~ +65,535|\n",
    "|    |**unsigned** int|4바이트|0 ~ +4,294,967,295|\n",
    "|    |**unsigned** long|4바이트|0 ~ +4,294,967,295|\n",
    "\n",
    "|C에서 제공하는 자료형||크기|수의 범위|\n",
    "|:---:|:---|:---:|:---:|\n",
    "|실수|float|4바이트|-3.4E-38 ~ +3.4E+38|\n",
    "|    |double|8바이트|-1.7E-308 ~ +1.7E+308|\n",
    "|문자|char|1바이트|-128 ~ +127|\n",
    "|    |**unsigned** char|1바이트|0 ~ +255|"
   ]
  },
  {
   "cell_type": "markdown",
   "metadata": {},
   "source": [
    "- 형 변환 C 코드\n",
    "![형변환예제코드.png](./images/형변환예제코드.png)"
   ]
  },
  {
   "cell_type": "markdown",
   "metadata": {},
   "source": [
    "## 1.2 배열"
   ]
  },
  {
   "cell_type": "markdown",
   "metadata": {},
   "source": [
    "- 같은 자료형의 데이터를 메모리상에 연속적으로 저장하는 자료형\n",
    "- 연속된 각각의 값을 배열의 원소라고 한다.\n",
    "\n",
    "### 1. 1차원 배열"
   ]
  },
  {
   "cell_type": "markdown",
   "metadata": {},
   "source": [
    "- C 코드 예\n",
    "\n",
    "\n",
    "int key[3];\n",
    "\n",
    "\n",
    "- 코드 분석\n",
    "    1. 자료형 - int\n",
    "    2. 변수 이름 - key\n",
    "    3. 배열 안의 값 - ?(초기화가 되어있지 않음)\n",
    "\n",
    "### 변수 초기화\n",
    "Debug 빌드 환경에서는 컴파일러가 배열의 값을 모두 0으로 초기화시켜준다.\n",
    "\n",
    "하지만 Release 빌드 환경에서는 초기화를 컴파일러가 실행하지 않으므로 초기화를 해줄 필요가 있다.\n",
    "\n",
    "- 배열에 문자열을 대입\n",
    "    - strcpy() 함수를 사용 - string.h 헤더 필요"
   ]
  },
  {
   "cell_type": "markdown",
   "metadata": {},
   "source": [
    "- 배열 예제 코드\n",
    "![배열예제1.png](./images/배열예제1.png)"
   ]
  },
  {
   "cell_type": "markdown",
   "metadata": {},
   "source": [
    "### 2. 다차원 배열\n",
    "\n",
    "- 배열의 원소가 배열 자료형인 배열\n",
    "- 실제 메모리상에서의 물리적 구조는 1차원이다.\n",
    "- 차원에 따라서 여러 할당 방법이 있을 수 있다."
   ]
  },
  {
   "cell_type": "markdown",
   "metadata": {},
   "source": [
    "## 1.3 구조체\n",
    "\n",
    "- 서로 다른 자료형의 데이터를 하나의 그룹으로 묶은 자료형\n",
    "- 예(학생이라는 구조체)\n",
    "    - 구성 요소\n",
    "        1. 이름 - 문자 배열\n",
    "        2. 입학 연도 - 정수\n",
    "        3. 성적 - 실수"
   ]
  },
  {
   "cell_type": "markdown",
   "metadata": {},
   "source": [
    "- 구조체 선언 예시\n",
    "![구조체선언.png](./images/구조체선언.png)"
   ]
  },
  {
   "cell_type": "markdown",
   "metadata": {},
   "source": [
    "- 구조체의 초기화와 값 설정\n",
    "![구조체초기화.png](./images/구조체초기화.png)\n",
    "\n",
    "- 구조체 복사\n",
    "![구조체복사.png](./images/구조체복사.png)\n",
    "\n",
    "- typedef를 사용하여 구조체를 데이터 타입으로 정의\n",
    "![typedef사용.png](./images/typedef사용.png)"
   ]
  },
  {
   "cell_type": "markdown",
   "metadata": {},
   "source": [
    "## 1.4 포인터\n",
    "\n",
    "### 포인터 변수 선언\n",
    "![포인터선언.png](./images/포인터선언.png)\n",
    "\n",
    "위 포인터 변수 선언에서 포인터 변수는 다음과 같은 문법에 따라 선언됨을 알 수 있음\n",
    "\n",
    "- 자료형 -> int\n",
    "- 연산자 -> *\n",
    "- 변수 이름 -> ptr_int"
   ]
  },
  {
   "cell_type": "markdown",
   "metadata": {},
   "source": [
    "### 포인터 변수에 다른 변수 주소 대입\n",
    "![포인터변수대입.png](./images/포인터변수대입.png)"
   ]
  },
  {
   "cell_type": "markdown",
   "metadata": {},
   "source": [
    "### 참조 연산자 *\n",
    "    - 포인터 변수에 저장된 주소를 이용하여 해당 주소에 있는 값을 나타냄\n",
    "\n",
    "\n",
    "- 참조 연산자 사용 문법 예시\n",
    "![참조연산자사용.png](./images/참조연산자사용.png)"
   ]
  },
  {
   "cell_type": "markdown",
   "metadata": {},
   "source": [
    "### 포인터를 이용한 동적 메모리 할당\n",
    "\n",
    "- 프로그램 실행 도중 동적으로 메모리를 할당하는 것\n",
    "- 동적의 의미 \n",
    "    - 할당될 메모리의 크기가 컴파일할 때 미리 정해져 있지 않았다는 의미\n",
    "\n",
    "#### 메모리 할당 예제\n",
    "![메모리할당.png](./images/메모리할당.png)"
   ]
  },
  {
   "cell_type": "markdown",
   "metadata": {},
   "source": [
    "- 동적할당으로 만들어준 메모리 영역은 대부분 쓰레기 값이 들어있다.\n",
    "- 쓰레기 값을 0으로 초기화하기 위해 memset() 함수가 주로 사용된다."
   ]
  },
  {
   "cell_type": "markdown",
   "metadata": {},
   "source": [
    "- 동적할당의 초기화 및 메모리 해제\n",
    "![동적할당초기화해제.png](./images/동적할당초기화해제.png)"
   ]
  },
  {
   "cell_type": "markdown",
   "metadata": {},
   "source": [
    "### 포인터의 포인터\n",
    "\n",
    "- 포인터 변수를 가리키는 포인터 변수\n",
    "    - 다른 변수의 메모리 주소를 저장\n",
    "\n",
    "\n",
    "- 더블 포인터 변수 선언법\n",
    "![더블포인터선언.png](./images/더블포인터선언.png)"
   ]
  },
  {
   "cell_type": "markdown",
   "metadata": {},
   "source": [
    "- 각 변수의 출력값\n",
    "![더블포인터변수출력.png](./images/더블포인터변수출력.png)\n",
    "![더블포인트출력값.png](./images/더블포인트출력값.png)"
   ]
  },
  {
   "cell_type": "markdown",
   "metadata": {},
   "source": [
    "### 포인터와 배열\n",
    "- 동적 메모리 할당을 통해 2차원 정수 배열을 생성한다.\n",
    "![동적할당배열선언.png](./images/동적할당배열선언.png)\n",
    "\n",
    "\n",
    "- 동적할당 배열의 값 정의\n",
    "![동적할당배열의설정법.png](./images/동적할당배열의설정법.png)"
   ]
  },
  {
   "cell_type": "markdown",
   "metadata": {},
   "source": [
    "### 구조체 포인터\n",
    "\n",
    "- 구조체에서의 포인터 사용 및 값 초기화\n",
    "![구조체포인터.png](./images/구조체포인터.png)"
   ]
  },
  {
   "cell_type": "code",
   "execution_count": null,
   "metadata": {},
   "outputs": [],
   "source": []
  }
 ],
 "metadata": {
  "kernelspec": {
   "display_name": "python3.6",
   "language": "python",
   "name": "python3.6"
  },
  "language_info": {
   "codemirror_mode": {
    "name": "ipython",
    "version": 3
   },
   "file_extension": ".py",
   "mimetype": "text/x-python",
   "name": "python",
   "nbconvert_exporter": "python",
   "pygments_lexer": "ipython3",
   "version": "3.6.10"
  }
 },
 "nbformat": 4,
 "nbformat_minor": 4
}
