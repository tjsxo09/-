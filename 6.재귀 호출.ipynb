{
 "cells": [
  {
   "cell_type": "markdown",
   "metadata": {},
   "source": [
    "# 6. 재귀 호출"
   ]
  },
  {
   "cell_type": "markdown",
   "metadata": {},
   "source": [
    "- 비선형 자료구조에 기반을 둔 알고리즘에서 사용된다. 예) 그래프의 노드 탐색, 다원 탐색 트리에서 노드 삭제, 병합\n",
    "- 큰 문제를 여러 개의 작은 문제들로 나누는 것으로부터 시작\n",
    "- 나누어진 작은 문제는 모두 같은 타입이어야 한다.(분할정복)\n",
    "- 종료 조건이 있어야한다."
   ]
  },
  {
   "cell_type": "markdown",
   "metadata": {},
   "source": [
    "## 1. 재귀 호출의 개념"
   ]
  },
  {
   "cell_type": "markdown",
   "metadata": {},
   "source": [
    "- 자기 자신을 다시 호출하는 것\n",
    "\n",
    "\n",
    "- 팩토리얼을 사용하여 개념 설명\n",
    "$$\n",
    "n! = \n",
    "\\cases{1 &  if n = 1 \\cr\n",
    "nX(n-1)X(n-2)X\\cdots X2xX & if n >=1}\n",
    "$$\n",
    "\n",
    "\n",
    "- 반복적으로 계산하는 표현\n",
    "$$\n",
    "n! = \n",
    "\\cases{1 &  if n = 1 \\cr\n",
    "nX(n-1)! & if n >=1}\n",
    "$$\n",
    "\n",
    "\n",
    "- 위 표현으로 factorial(n)을 작성 할 때 핵심 코드\n",
    "    - return = n * factorial(n-1)\n",
    "    - factorial(0) = 1 이므로, factorial(0)이 나오는것이 종료 조건이다.( n이 1인 경우)"
   ]
  },
  {
   "cell_type": "markdown",
   "metadata": {},
   "source": [
    "## 2. 재귀 호출과 반복 호출"
   ]
  },
  {
   "cell_type": "markdown",
   "metadata": {},
   "source": [
    "- 반복 호출\n",
    "    - for, while 문등을 이용하여 밙복적으로 명령을 실행\n",
    "    - 정해진 반복 횟수, 완료 조건을 만족할 때까지 반복\n",
    "\n",
    "\n",
    "- 반복 호출 장점\n",
    "    - 알고리즘의 간결성, 명확성\n",
    "    - 프로그램 속도, 메모리 측면에서 재귀 호출보다 우수\n",
    "    \n",
    "\n",
    "- 반복 호출을 이용한 팩토리얼 핵심 코드\n",
    "\n",
    "\n",
    "for(i = n; i > 1; i--){\n",
    "\n",
    "\n",
    "    ret = ret * i;\n",
    "    \n",
    "    \n",
    "}"
   ]
  },
  {
   "cell_type": "markdown",
   "metadata": {},
   "source": [
    "- 반복 호출이 재귀 호출보다 성능이 좋은 경우\n",
    "    - 피보나치 수열\n",
    "$$\n",
    "fib(n) = \n",
    "\\cases{\n",
    "0 &  if n = 0 \\cr\n",
    "1 & if n =1 \\cr\n",
    "fib(n-1) + fib(n-2) & if n>=2}\n",
    "$$\n",
    "    - 호출되는 횟수가 매우 많아, 재귀 호출로는 문제가 많다.\n",
    "   \n",
    "\n",
    "- 반복 호출로 구현한 피보나치 수열\n",
    "\n",
    "\n",
    "int fib_iter(int n) {\n",
    "\n",
    "    int ret = 0;\n",
    "    \n",
    "    \n",
    "    if (n>2) {\n",
    "        ret = n;\n",
    "    }\n",
    "    else {\n",
    "        int i = 0, temp = 0, current = 1, last = 0;\n",
    "        for (i = 2; i<= n; i++){\n",
    "            temp = current;\n",
    "            current += last;\n",
    "            last = temp;\n",
    "        }\n",
    "        \n",
    "        ret = current;\n",
    "    }\n",
    "    \n",
    "    \n",
    "}"
   ]
  },
  {
   "cell_type": "markdown",
   "metadata": {},
   "source": [
    "- 재귀 호출이 반복 호출보다 성능이 좋은 경우\n",
    "    - 하노이 탑\n",
    "        - 제약 사항\n",
    "            1. 한 번에 하나의 원판만 이동할 수 있다.\n",
    "            2. 맨 위에 있는 원판만 이동할 수 있다.\n",
    "            3. 크기가 작은 원판 위에 큰 원판이 있을 수 없다.\n",
    "            4. 중간 막대를 이용할 수 있으나, 앞의 3가지 조건을 만족해야 한다.\n",
    "            \n",
    "        - 방법\n",
    "            1. from 맨 밑 원판을 제외한 원판을 temp로 옮긴다.\n",
    "            2. from에 있는 한 개의 원판을 to로 옮긴다.\n",
    "            3. temp의 원판들을 to로 옮긴다."
   ]
  },
  {
   "cell_type": "code",
   "execution_count": null,
   "metadata": {},
   "outputs": [],
   "source": []
  }
 ],
 "metadata": {
  "kernelspec": {
   "display_name": "python3.6",
   "language": "python",
   "name": "python3.6"
  },
  "language_info": {
   "codemirror_mode": {
    "name": "ipython",
    "version": 3
   },
   "file_extension": ".py",
   "mimetype": "text/x-python",
   "name": "python",
   "nbconvert_exporter": "python",
   "pygments_lexer": "ipython3",
   "version": "3.6.10"
  }
 },
 "nbformat": 4,
 "nbformat_minor": 4
}
